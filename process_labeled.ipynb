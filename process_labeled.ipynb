{
 "cells": [
  {
   "cell_type": "code",
   "execution_count": 78,
   "metadata": {},
   "outputs": [
    {
     "name": "stdout",
     "output_type": "stream",
     "text": [
      "<class 'pandas.core.frame.DataFrame'>\n",
      "RangeIndex: 392 entries, 0 to 391\n",
      "Columns: 141 entries, distance to class\n",
      "dtypes: float64(140), int64(1)\n",
      "memory usage: 431.9 KB\n",
      "<bound method IndexOpsMixin.value_counts of 0      0\n",
      "1      0\n",
      "2      0\n",
      "3      0\n",
      "4      0\n",
      "      ..\n",
      "387    1\n",
      "388    1\n",
      "389    1\n",
      "390    1\n",
      "391    1\n",
      "Name: class, Length: 392, dtype: int64>\n"
     ]
    }
   ],
   "source": [
    "import pandas as pd\n",
    "import os\n",
    "\n",
    "df_append = pd.DataFrame()\n",
    "\n",
    "data_path = os.path.join(os.getcwd(),\"classifier_data\")\n",
    "for dirName, subdirList, fileList in os.walk(data_path):\n",
    "    for file in fileList:\n",
    "        df_temp = pd.read_csv(os.path.join(data_path,file))\n",
    "        df_append = df_append.append(df_temp, ignore_index = True)\n",
    "\n",
    "df_append.info()\n",
    "print(df_append['class'].value_counts)\n",
    "df_append.to_csv(os.path.join(os.getcwd(),\"classifier_data\\\\combined.csv\"),index=None)"
   ]
  },
  {
   "cell_type": "markdown",
   "metadata": {},
   "source": [
    "Determine which files are Os (no accident), which ones are 1s (accident)\n"
   ]
  },
  {
   "cell_type": "code",
   "execution_count": 64,
   "metadata": {},
   "outputs": [
    {
     "name": "stdout",
     "output_type": "stream",
     "text": [
      "Zeros: 127, 0_perturbed_1.csv\n",
      "Ones: 73, 10_vanilla_0.csv\n"
     ]
    }
   ],
   "source": [
    "import os\n",
    "import pandas as pd\n",
    "\n",
    "data_path = os.path.join(os.getcwd(),\"features\")\n",
    "zeros = []\n",
    "ones = []\n",
    "for dirName, subdirList, fileList in os.walk(data_path):\n",
    "    for file in fileList:\n",
    "        df = pd.read_csv(os.path.join(data_path,file),index_col=0)\n",
    "        if(True in df['intersect'].unique()):\n",
    "            ones.append(file)\n",
    "        else:\n",
    "            zeros.append(file)\n",
    "\n",
    "print(f\"Zeros: {len(zeros)}, {zeros[0]}\")\n",
    "print(f\"Ones: {len(ones)}, {ones[0]}\")"
   ]
  },
  {
   "cell_type": "markdown",
   "metadata": {},
   "source": [
    "1) For each file, identify the \"row of interest\" (i.e. where you want to take 3 seconds before from)\n",
    "2) Now take 3 seconds before, sampling every .5 seconds"
   ]
  },
  {
   "cell_type": "code",
   "execution_count": 65,
   "metadata": {},
   "outputs": [
    {
     "name": "stdout",
     "output_type": "stream",
     "text": [
      "Removing file:88_vanilla_0.csv, doesn't meet the criteria\n",
      "<class 'pandas.core.frame.DataFrame'>\n",
      "RangeIndex: 198 entries, 0 to 197\n",
      "Columns: 141 entries, distance to class\n",
      "dtypes: float64(140), int64(1)\n",
      "memory usage: 218.2 KB\n"
     ]
    }
   ],
   "source": [
    "sample_interval = 0.5\n",
    "frame_interval = 0.05\n",
    "seconds_before = 3\n",
    "seconds_after = 0\n",
    "\n",
    "all_files = zeros + ones\n",
    "\n",
    "all_seqs = []\n",
    "\n",
    "for file in all_files:\n",
    "    df = pd.read_csv(os.path.join(data_path,file),index_col=0)\n",
    "    clazz = None\n",
    "\n",
    "    #The \"event of interest\" is:\n",
    "    #   For '1' paths, when the accident occurs\n",
    "    \n",
    "    df_moving = df[20:]\n",
    "    row_of_interest = None\n",
    "    if file in ones:\n",
    "        #find the row number where the accident first occurs\n",
    "        row_of_interest = df[df['intersect']].iloc[0].name - 1\n",
    "        clazz = 1\n",
    "    if file in zeros:\n",
    "        #find the row number where the lane change occurs\n",
    "        #where j = 10 (adv_point % 20 == 10)\n",
    "        df['adv_point'] = df['adv_point'].astype(int)\n",
    "        try:\n",
    "            row_of_interest = df[df['adv_point'] % 20 == 12].iloc[0].name - 1\n",
    "        except IndexError:\n",
    "            print(f\"Removing file:{file}, doesn't meet the criteria\")\n",
    "            all_files.remove(file)\n",
    "            continue\n",
    "        clazz = 0\n",
    "    if(row_of_interest < seconds_before/frame_interval):\n",
    "        print(f\"Removing file:{file}, not enough data\")\n",
    "        all_files.remove(file)\n",
    "        continue\n",
    "\n",
    "\n",
    "    start_idx = row_of_interest - seconds_before * (2*sample_interval/frame_interval)\n",
    "    stop_idx = row_of_interest + seconds_after * (2*sample_interval/frame_interval)\n",
    "\n",
    "    indices_to_sample = []\n",
    "    for x in range(int(start_idx),int(stop_idx+1),int(sample_interval/frame_interval)): indices_to_sample.append(x)\n",
    "\n",
    "    columns_of_interest = ['distance','angle',\n",
    "        'ego_vel_x','ego_vel_y','ego_vel_z','ego_accel_x','ego_accel_y','ego_accel_z','ego_ang_vel_x','ego_ang_vel_y','ego_ang_vel_z',\n",
    "        'adv_vel_x','adv_vel_y','adv_vel_z','adv_accel_x','adv_accel_y','adv_accel_z','adv_ang_vel_x','adv_ang_vel_y','adv_ang_vel_z']\n",
    "    try:\n",
    "        rows_of_interest = df.loc[indices_to_sample,columns_of_interest]\n",
    "    except:\n",
    "        print(f\"bad keys in file {file}\")\n",
    "        print(indices_to_sample)\n",
    "        continue\n",
    "    one_seq = []\n",
    "    for index, rows in rows_of_interest.iterrows():\n",
    "        for elem in rows:\n",
    "            one_seq.append(elem)\n",
    "    one_seq.append(clazz)\n",
    "    all_seqs.append(one_seq)\n",
    "\n",
    "\n",
    "\n",
    "full_df = pd.DataFrame(all_seqs, columns=(columns_of_interest * int((len(all_seqs[0])-1)/len(columns_of_interest)) + ['class']))\n",
    "full_df.to_csv(os.path.join(os.getcwd(),\"classifier_data\\\\labeled_data.csv\"),index=None)\n",
    "full_df.info()"
   ]
  },
  {
   "cell_type": "markdown",
   "metadata": {},
   "source": [
    "Generate Train/Test Files"
   ]
  },
  {
   "cell_type": "code",
   "execution_count": 72,
   "metadata": {},
   "outputs": [
    {
     "name": "stdout",
     "output_type": "stream",
     "text": [
      "<class 'pandas.core.frame.DataFrame'>\n",
      "RangeIndex: 392 entries, 0 to 391\n",
      "Columns: 141 entries, distance to class\n",
      "dtypes: float64(140), int64(1)\n",
      "memory usage: 431.9 KB\n"
     ]
    }
   ],
   "source": [
    "full_df = pd.read_csv(os.path.join(os.getcwd(),\"classifier_data\\\\labeled_data.csv\"))\n",
    "full_df.info()"
   ]
  },
  {
   "cell_type": "code",
   "execution_count": 73,
   "metadata": {},
   "outputs": [],
   "source": [
    "from sklearn.model_selection import train_test_split\n",
    "x = full_df.iloc[:,:-1]\n",
    "y = full_df.iloc[:,-1]\n",
    "x_train, x_test, y_train, y_test = train_test_split(x,y,test_size=0.33)\n",
    "train = x_train.assign(Class=y_train)\n",
    "test = x_test.assign(Class=y_test)\n",
    "train.to_csv(os.path.join(os.getcwd(),\"classifier_data\\\\train_file.csv\"),index=None)\n",
    "test.to_csv(os.path.join(os.getcwd(),\"classifier_data\\\\test_file.csv\"),index=None)"
   ]
  },
  {
   "cell_type": "code",
   "execution_count": 74,
   "metadata": {},
   "outputs": [
    {
     "data": {
      "text/html": [
       "<div>\n",
       "<style scoped>\n",
       "    .dataframe tbody tr th:only-of-type {\n",
       "        vertical-align: middle;\n",
       "    }\n",
       "\n",
       "    .dataframe tbody tr th {\n",
       "        vertical-align: top;\n",
       "    }\n",
       "\n",
       "    .dataframe thead th {\n",
       "        text-align: right;\n",
       "    }\n",
       "</style>\n",
       "<table border=\"1\" class=\"dataframe\">\n",
       "  <thead>\n",
       "    <tr style=\"text-align: right;\">\n",
       "      <th></th>\n",
       "      <th>distance</th>\n",
       "      <th>angle</th>\n",
       "      <th>ego_vel_x</th>\n",
       "      <th>ego_vel_y</th>\n",
       "      <th>ego_vel_z</th>\n",
       "      <th>ego_accel_x</th>\n",
       "      <th>ego_accel_y</th>\n",
       "      <th>ego_accel_z</th>\n",
       "      <th>ego_ang_vel_x</th>\n",
       "      <th>ego_ang_vel_y</th>\n",
       "      <th>...</th>\n",
       "      <th>ego_ang_vel_z.6</th>\n",
       "      <th>adv_vel_x.6</th>\n",
       "      <th>adv_vel_y.6</th>\n",
       "      <th>adv_vel_z.6</th>\n",
       "      <th>adv_accel_x.6</th>\n",
       "      <th>adv_accel_y.6</th>\n",
       "      <th>adv_accel_z.6</th>\n",
       "      <th>adv_ang_vel_x.6</th>\n",
       "      <th>adv_ang_vel_y.6</th>\n",
       "      <th>adv_ang_vel_z.6</th>\n",
       "    </tr>\n",
       "  </thead>\n",
       "  <tbody>\n",
       "    <tr>\n",
       "      <th>331</th>\n",
       "      <td>4.627736</td>\n",
       "      <td>80.566926</td>\n",
       "      <td>-3.828516</td>\n",
       "      <td>0.000563</td>\n",
       "      <td>0.002206</td>\n",
       "      <td>-6.476464</td>\n",
       "      <td>-0.003804</td>\n",
       "      <td>-0.008703</td>\n",
       "      <td>-0.106228</td>\n",
       "      <td>-1.458710</td>\n",
       "      <td>...</td>\n",
       "      <td>0.199280</td>\n",
       "      <td>-5.944576</td>\n",
       "      <td>2.208124</td>\n",
       "      <td>-0.056752</td>\n",
       "      <td>1.272840</td>\n",
       "      <td>-0.714388</td>\n",
       "      <td>-0.013013</td>\n",
       "      <td>-0.445199</td>\n",
       "      <td>-0.835233</td>\n",
       "      <td>5.631906</td>\n",
       "    </tr>\n",
       "    <tr>\n",
       "      <th>181</th>\n",
       "      <td>1.393777</td>\n",
       "      <td>-83.044841</td>\n",
       "      <td>-5.747271</td>\n",
       "      <td>-0.000339</td>\n",
       "      <td>-0.007136</td>\n",
       "      <td>-2.601061</td>\n",
       "      <td>0.006383</td>\n",
       "      <td>-0.048254</td>\n",
       "      <td>0.156521</td>\n",
       "      <td>1.060539</td>\n",
       "      <td>...</td>\n",
       "      <td>-34.577267</td>\n",
       "      <td>-5.884548</td>\n",
       "      <td>-1.091117</td>\n",
       "      <td>-0.068156</td>\n",
       "      <td>-2.150860</td>\n",
       "      <td>-0.064485</td>\n",
       "      <td>-0.091414</td>\n",
       "      <td>-0.650232</td>\n",
       "      <td>-1.473426</td>\n",
       "      <td>-6.846320</td>\n",
       "    </tr>\n",
       "    <tr>\n",
       "      <th>291</th>\n",
       "      <td>4.196866</td>\n",
       "      <td>174.233422</td>\n",
       "      <td>-5.046963</td>\n",
       "      <td>0.003767</td>\n",
       "      <td>-0.077193</td>\n",
       "      <td>-2.955408</td>\n",
       "      <td>0.003008</td>\n",
       "      <td>0.124514</td>\n",
       "      <td>-0.405801</td>\n",
       "      <td>-3.320619</td>\n",
       "      <td>...</td>\n",
       "      <td>1.444511</td>\n",
       "      <td>-5.649720</td>\n",
       "      <td>2.107539</td>\n",
       "      <td>-0.096841</td>\n",
       "      <td>-0.670881</td>\n",
       "      <td>0.291657</td>\n",
       "      <td>-0.011458</td>\n",
       "      <td>0.066231</td>\n",
       "      <td>0.177690</td>\n",
       "      <td>-0.413979</td>\n",
       "    </tr>\n",
       "    <tr>\n",
       "      <th>140</th>\n",
       "      <td>2.398740</td>\n",
       "      <td>-102.932027</td>\n",
       "      <td>-4.913240</td>\n",
       "      <td>-0.000560</td>\n",
       "      <td>-0.050520</td>\n",
       "      <td>-0.974092</td>\n",
       "      <td>0.038501</td>\n",
       "      <td>0.072086</td>\n",
       "      <td>-0.450002</td>\n",
       "      <td>-2.594245</td>\n",
       "      <td>...</td>\n",
       "      <td>0.211420</td>\n",
       "      <td>-8.013268</td>\n",
       "      <td>-2.826033</td>\n",
       "      <td>-0.137811</td>\n",
       "      <td>0.346088</td>\n",
       "      <td>3.712478</td>\n",
       "      <td>0.005363</td>\n",
       "      <td>1.682001</td>\n",
       "      <td>0.108203</td>\n",
       "      <td>-9.128959</td>\n",
       "    </tr>\n",
       "    <tr>\n",
       "      <th>328</th>\n",
       "      <td>5.088861</td>\n",
       "      <td>-134.654628</td>\n",
       "      <td>-7.185088</td>\n",
       "      <td>-0.004763</td>\n",
       "      <td>-0.118652</td>\n",
       "      <td>-3.577023</td>\n",
       "      <td>-0.036015</td>\n",
       "      <td>-0.070578</td>\n",
       "      <td>-0.219991</td>\n",
       "      <td>-0.446527</td>\n",
       "      <td>...</td>\n",
       "      <td>0.115177</td>\n",
       "      <td>-9.404526</td>\n",
       "      <td>-3.357208</td>\n",
       "      <td>-0.160739</td>\n",
       "      <td>-2.021141</td>\n",
       "      <td>3.425422</td>\n",
       "      <td>-0.028457</td>\n",
       "      <td>1.673334</td>\n",
       "      <td>0.768149</td>\n",
       "      <td>-10.542345</td>\n",
       "    </tr>\n",
       "  </tbody>\n",
       "</table>\n",
       "<p>5 rows × 140 columns</p>\n",
       "</div>"
      ],
      "text/plain": [
       "     distance       angle  ego_vel_x  ego_vel_y  ego_vel_z  ego_accel_x  \\\n",
       "331  4.627736   80.566926  -3.828516   0.000563   0.002206    -6.476464   \n",
       "181  1.393777  -83.044841  -5.747271  -0.000339  -0.007136    -2.601061   \n",
       "291  4.196866  174.233422  -5.046963   0.003767  -0.077193    -2.955408   \n",
       "140  2.398740 -102.932027  -4.913240  -0.000560  -0.050520    -0.974092   \n",
       "328  5.088861 -134.654628  -7.185088  -0.004763  -0.118652    -3.577023   \n",
       "\n",
       "     ego_accel_y  ego_accel_z  ego_ang_vel_x  ego_ang_vel_y  ...  \\\n",
       "331    -0.003804    -0.008703      -0.106228      -1.458710  ...   \n",
       "181     0.006383    -0.048254       0.156521       1.060539  ...   \n",
       "291     0.003008     0.124514      -0.405801      -3.320619  ...   \n",
       "140     0.038501     0.072086      -0.450002      -2.594245  ...   \n",
       "328    -0.036015    -0.070578      -0.219991      -0.446527  ...   \n",
       "\n",
       "     ego_ang_vel_z.6  adv_vel_x.6  adv_vel_y.6  adv_vel_z.6  adv_accel_x.6  \\\n",
       "331         0.199280    -5.944576     2.208124    -0.056752       1.272840   \n",
       "181       -34.577267    -5.884548    -1.091117    -0.068156      -2.150860   \n",
       "291         1.444511    -5.649720     2.107539    -0.096841      -0.670881   \n",
       "140         0.211420    -8.013268    -2.826033    -0.137811       0.346088   \n",
       "328         0.115177    -9.404526    -3.357208    -0.160739      -2.021141   \n",
       "\n",
       "     adv_accel_y.6  adv_accel_z.6  adv_ang_vel_x.6  adv_ang_vel_y.6  \\\n",
       "331      -0.714388      -0.013013        -0.445199        -0.835233   \n",
       "181      -0.064485      -0.091414        -0.650232        -1.473426   \n",
       "291       0.291657      -0.011458         0.066231         0.177690   \n",
       "140       3.712478       0.005363         1.682001         0.108203   \n",
       "328       3.425422      -0.028457         1.673334         0.768149   \n",
       "\n",
       "     adv_ang_vel_z.6  \n",
       "331         5.631906  \n",
       "181        -6.846320  \n",
       "291        -0.413979  \n",
       "140        -9.128959  \n",
       "328       -10.542345  \n",
       "\n",
       "[5 rows x 140 columns]"
      ]
     },
     "execution_count": 74,
     "metadata": {},
     "output_type": "execute_result"
    }
   ],
   "source": [
    "x_train.head()"
   ]
  },
  {
   "cell_type": "code",
   "execution_count": 75,
   "metadata": {},
   "outputs": [
    {
     "data": {
      "text/plain": [
       "0.9923076923076923"
      ]
     },
     "execution_count": 75,
     "metadata": {},
     "output_type": "execute_result"
    }
   ],
   "source": [
    "from sklearn.metrics import accuracy_score,r2_score,confusion_matrix\n",
    "from sklearn.ensemble import RandomForestClassifier\n",
    "import numpy as np\n",
    "from matplotlib import pyplot as plt\n",
    "%matplotlib inline\n",
    "\n",
    "RF = RandomForestClassifier()\n",
    "RF.fit(x_train,y_train)\n",
    "RF.score(x_test,y_test)\n"
   ]
  },
  {
   "cell_type": "code",
   "execution_count": 77,
   "metadata": {},
   "outputs": [
    {
     "name": "stdout",
     "output_type": "stream",
     "text": [
      "Average absolute error: 0.01  %.\n",
      "Accuracy: 0.99\n",
      "TPR/Recall: 1.0\n",
      "TNR: 0.99\n",
      "FNR: 0.0\n",
      "FPR: 0.01\n",
      "PPV: 0.98\n",
      "F1: 0.99\n"
     ]
    }
   ],
   "source": [
    "#===== RDF\n",
    "predictions = RF.predict(x_test) #test_features\n",
    "# Calculate the absolute errors\n",
    "errors = abs(predictions - y_test) #test_y_ is test_labels\n",
    "# Print out the mean absolute error (mae)\n",
    "print('Average absolute error:', round(np.mean(errors), 2), ' %.')\n",
    "accuracy = accuracy_score(y_test, predictions)\n",
    "print('Accuracy:', round(accuracy, 2))\n",
    "fp = np.sum((predictions == 1) & (y_test == 0))\n",
    "tp = np.sum((predictions == 1) & (y_test == 1))\n",
    "fn = np.sum((predictions == 0) & (y_test == 1))\n",
    "tn = np.sum((predictions == 0) & (y_test == 0))\n",
    "tpr = tp / (tp + fn)\n",
    "print('TPR/Recall:', round(tpr, 2))\n",
    "tnr = tn / (fp + tn)\n",
    "print('TNR:', round(tnr, 2))\n",
    "fnr = fn / (tp + fn)\n",
    "print('FNR:', round(fnr, 2))\n",
    "fpr = fp / (fp + tn)\n",
    "print('FPR:', round(fpr, 2))\n",
    "#Positive Predictive Value / Precision\n",
    "ppv = tp / (tp + fp)\n",
    "print('PPV:', round(ppv, 2))\n",
    "F1 = 2 * (ppv * tpr) / (ppv + tpr)\n",
    "print('F1:', round(F1, 2))"
   ]
  },
  {
   "cell_type": "code",
   "execution_count": 50,
   "metadata": {},
   "outputs": [
    {
     "name": "stdout",
     "output_type": "stream",
     "text": [
      "[(101, 'angle', 0.11488681507566975), (100, 'distance', 0.10853531991352819), (121, 'angle', 0.09071138566261266), (120, 'distance', 0.07527066040450006), (4, 'ego_vel_z', 0.07270276456192681), (80, 'distance', 0.04248595133533245), (13, 'adv_vel_z', 0.04216652736489473), (81, 'angle', 0.04188678563872914), (84, 'ego_vel_z', 0.03964405754421576), (41, 'angle', 0.035888354510986105), (20, 'distance', 0.02795610380840116), (73, 'adv_vel_z', 0.023022722527954006), (24, 'ego_vel_z', 0.021603639672342512), (0, 'distance', 0.021569799745489542), (1, 'angle', 0.02097110857708173), (104, 'ego_vel_z', 0.020008202154939633), (40, 'distance', 0.017618821872500995), (60, 'distance', 0.015282411102584846), (44, 'ego_vel_z', 0.015122375887608366), (93, 'adv_vel_z', 0.012265149010181869)]\n",
      "31.428571428571427\n"
     ]
    },
    {
     "data": {
      "image/png": "[encoded data removed]",
      "text/plain": [
       "<Figure size 432x288 with 1 Axes>"
      ]
     },
     "metadata": {
      "needs_background": "light"
     },
     "output_type": "display_data"
    }
   ],
   "source": [
    "importances = RF.feature_importances_\n",
    "std = np.std([tree.feature_importances_ for tree in RF.estimators_], axis=0)\n",
    "feature_names=x_test.columns.values.tolist()\n",
    "forest_importances = pd.Series(importances, index=feature_names)\n",
    "\n",
    "#print(np.sort(importances)[::-1])\n",
    "sorted_importances = np.argsort(importances)[::-1]\n",
    "sorted_tuple = [(i,feature_names[i],importances[i]) for i in sorted_importances]\n",
    "print(sorted_tuple[:20])\n",
    "print(len([x for x in sorted_tuple if x[2]==0])/len(sorted_tuple) * 100)\n",
    "\n",
    "fig, ax = plt.subplots()\n",
    "forest_importances.plot.bar(yerr=std,ax=ax)\n",
    "ax.set_title(\"Feature importances using MDI\")\n",
    "ax.set_ylabel(\"Mean decrease in impurity\")\n",
    "fig.tight_layout()"
   ]
  },
  {
   "cell_type": "code",
   "execution_count": 53,
   "metadata": {},
   "outputs": [
    {
     "data": {
      "text/plain": [
       "array([1, 1, 0, 1], dtype=int64)"
      ]
     },
     "execution_count": 53,
     "metadata": {},
     "output_type": "execute_result"
    }
   ],
   "source": [
    "RF.predict(x_test[:4])"
   ]
  }
 ],
 "metadata": {
  "kernelspec": {
   "display_name": "Python 3.7.0 ('carla_windows')",
   "language": "python",
   "name": "python3"
  },
  "language_info": {
   "codemirror_mode": {
    "name": "ipython",
    "version": 3
   },
   "file_extension": ".py",
   "mimetype": "text/x-python",
   "name": "python",
   "nbconvert_exporter": "python",
   "pygments_lexer": "ipython3",
   "version": "3.7.0"
  },
  "orig_nbformat": 4,
  "vscode": {
   "interpreter": {
    "hash": "6b78e235c59f528395fecac5cf104b5a1e9734d9cb9e1120f721887febdebcb5"
   }
  }
 },
 "nbformat": 4,
 "nbformat_minor": 2
}
