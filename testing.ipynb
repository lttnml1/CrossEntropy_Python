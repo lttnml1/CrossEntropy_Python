{
 "cells": [
  {
   "cell_type": "code",
   "execution_count": 2,
   "metadata": {},
   "outputs": [],
   "source": [
    "from abc import ABC, abstractmethod"
   ]
  },
  {
   "cell_type": "code",
   "execution_count": 69,
   "metadata": {},
   "outputs": [],
   "source": [
    "class BaseClass(ABC):\n",
    "    def score(self):\n",
    "        print(\"Here I'm scoring the base class\")\n",
    "        self.specificScore()\n",
    "    @abstractmethod\n",
    "    def specificScore(self):\n",
    "        pass\n",
    "\n",
    "class BaseClass_2(BaseClass, ABC):\n",
    "    pass\n",
    "\n",
    "class ChildClass(BaseClass):\n",
    "    def __init__(self, i, j):\n",
    "        self.i = i\n",
    "        self.j = j\n",
    "        print(f\"({self.i},{self.j})\")\n",
    "    "
   ]
  },
  {
   "cell_type": "code",
   "execution_count": 70,
   "metadata": {},
   "outputs": [
    {
     "ename": "TypeError",
     "evalue": "Can't instantiate abstract class ChildClass with abstract methods specificScore",
     "output_type": "error",
     "traceback": [
      "\u001b[1;31m---------------------------------------------------------------------------\u001b[0m",
      "\u001b[1;31mTypeError\u001b[0m                                 Traceback (most recent call last)",
      "\u001b[1;32m~\\AppData\\Local\\Temp\\ipykernel_6380\\251326646.py\u001b[0m in \u001b[0;36m<module>\u001b[1;34m\u001b[0m\n\u001b[1;32m----> 1\u001b[1;33m \u001b[0mcc\u001b[0m \u001b[1;33m=\u001b[0m \u001b[0mChildClass\u001b[0m\u001b[1;33m(\u001b[0m\u001b[1;36m2\u001b[0m\u001b[1;33m,\u001b[0m\u001b[1;36m3\u001b[0m\u001b[1;33m)\u001b[0m\u001b[1;33m\u001b[0m\u001b[0m\n\u001b[0m\u001b[0;32m      2\u001b[0m \u001b[1;33m\u001b[0m\u001b[0m\n\u001b[0;32m      3\u001b[0m \u001b[1;33m\u001b[0m\u001b[0m\n\u001b[0;32m      4\u001b[0m \u001b[1;33m\u001b[0m\u001b[0m\n",
      "\u001b[1;31mTypeError\u001b[0m: Can't instantiate abstract class ChildClass with abstract methods specificScore"
     ]
    }
   ],
   "source": [
    "cc = ChildClass(2,3)\n",
    "\n",
    "\n",
    "\n"
   ]
  },
  {
   "cell_type": "code",
   "execution_count": 8,
   "metadata": {},
   "outputs": [],
   "source": [
    "class A():\n",
    "    def __init__(self):\n",
    "        self.i = None\n",
    "    \n",
    "    def set_i(self, i):\n",
    "        self.i = i\n",
    "\n",
    "    def __repr__(self) -> str:\n",
    "        return f\"i: {self.i}\""
   ]
  },
  {
   "cell_type": "code",
   "execution_count": 21,
   "metadata": {},
   "outputs": [
    {
     "name": "stdout",
     "output_type": "stream",
     "text": [
      "i: None\n",
      "A\n"
     ]
    }
   ],
   "source": [
    "a = A()\n",
    "print(a)\n",
    "a.set_i(32)\n",
    "print(a.__class__.__name__)"
   ]
  },
  {
   "cell_type": "code",
   "execution_count": 24,
   "metadata": {},
   "outputs": [],
   "source": [
    "class CompareTest():\n",
    "    def __init__(self,i,j):\n",
    "        self.i = i\n",
    "        self.j = j\n",
    "    def __eq__(self, __o: object) -> bool:\n",
    "        if(self.i == __o.j): return True\n",
    "        else: return False\n",
    "    def __lt__(self, __o: object) -> bool:\n",
    "        if(self.i < __o.i): return True\n",
    "        else: return False\n",
    "    def __repr__(self) -> str:\n",
    "        return f\"({self.i},{self.j})\""
   ]
  },
  {
   "cell_type": "code",
   "execution_count": 26,
   "metadata": {},
   "outputs": [
    {
     "name": "stdout",
     "output_type": "stream",
     "text": [
      "[(1,8), (2,5), (5,1)]\n"
     ]
    }
   ],
   "source": [
    "a = CompareTest(2,5)\n",
    "b = CompareTest(5,1)\n",
    "c = CompareTest(1,8)\n",
    "\n",
    "list = [a,b,c]\n",
    "list.sort()\n",
    "print(list)\n",
    "\n"
   ]
  },
  {
   "cell_type": "code",
   "execution_count": 10,
   "metadata": {},
   "outputs": [],
   "source": [
    "import numpy as np\n",
    "matrix = []\n",
    "for i in range(400):\n",
    "    row = []\n",
    "    for j in range(8):\n",
    "        row.append(i)\n",
    "    matrix.append(row)\n"
   ]
  },
  {
   "cell_type": "code",
   "execution_count": 26,
   "metadata": {},
   "outputs": [
    {
     "name": "stdout",
     "output_type": "stream",
     "text": [
      "[1. 1. 1. 1. 1. 1. 1. 1.]\n",
      "8.0\n",
      "[0.125 0.125 0.125 0.125 0.125 0.125 0.125 0.125]\n"
     ]
    }
   ],
   "source": [
    "a = np.array(matrix, dtype=float)\n",
    "print(a[1])\n",
    "sum = np.sum(a[1])\n",
    "print(sum)\n",
    "a[1] = a[1]/sum\n",
    "print(a[1])"
   ]
  },
  {
   "cell_type": "code",
   "execution_count": 17,
   "metadata": {},
   "outputs": [
    {
     "data": {
      "text/plain": [
       "8"
      ]
     },
     "execution_count": 17,
     "metadata": {},
     "output_type": "execute_result"
    }
   ],
   "source": [
    "import numpy as np\n",
    "a = np.ones((400,8))\n",
    "a.shape[1]"
   ]
  },
  {
   "cell_type": "code",
   "execution_count": 19,
   "metadata": {},
   "outputs": [
    {
     "name": "stdout",
     "output_type": "stream",
     "text": [
      "less than 8\n"
     ]
    }
   ],
   "source": [
    "a = 7\n",
    "if(a < 8):\n",
    "    print(\"less than 8\")\n",
    "if(a > 0):\n",
    "    print(\"greater than 0\")"
   ]
  },
  {
   "cell_type": "code",
   "execution_count": 33,
   "metadata": {},
   "outputs": [
    {
     "name": "stdout",
     "output_type": "stream",
     "text": [
      "True\n"
     ]
    }
   ],
   "source": [
    "a = [32,4,5,62,2134,4,5,5]\n",
    "d = 2\n",
    "print(a[-d:] == [a[-1]] * d)"
   ]
  },
  {
   "cell_type": "code",
   "execution_count": 45,
   "metadata": {},
   "outputs": [
    {
     "name": "stdout",
     "output_type": "stream",
     "text": [
      "4\n",
      "5\n"
     ]
    }
   ],
   "source": [
    "class Base:\n",
    "    def __init__(self, i):\n",
    "        self.i = i\n",
    "    \n",
    "    @classmethod\n",
    "    def with_j(cls, i, j):\n",
    "        b = cls(i)\n",
    "        b.j = j\n",
    "        return b\n",
    "\n",
    "class Base_v2(Base):\n",
    "    def __init__(self, i):\n",
    "        super().__init__(i)\n",
    "    \n",
    "    @classmethod\n",
    "    def with_j(cls, i, j):\n",
    "        return super().with_j(i,j)\n",
    "\n",
    "b1 = Base(4)\n",
    "\n",
    "b2 = Base.with_j(3,4)\n",
    "print(b2.j)\n",
    "\n",
    "b3 = Base_v2.with_j(4,5)\n",
    "print(b3.j)"
   ]
  },
  {
   "cell_type": "code",
   "execution_count": 53,
   "metadata": {},
   "outputs": [
    {
     "name": "stdout",
     "output_type": "stream",
     "text": [
      "here\n",
      "14\n"
     ]
    }
   ],
   "source": [
    "ht = {}\n",
    "ht[24] = 67\n",
    "ht[12] = 14\n",
    "if 12 in ht:\n",
    "    print('here')\n",
    "    print(ht.get(12))"
   ]
  },
  {
   "cell_type": "code",
   "execution_count": 3,
   "metadata": {},
   "outputs": [
    {
     "name": "stdout",
     "output_type": "stream",
     "text": [
      "class B doing thing\n",
      "class B doing thing\n"
     ]
    }
   ],
   "source": [
    "class A:\n",
    "    def __init__(self, a, b):\n",
    "        self.a = a\n",
    "        self.b = b\n",
    "    def do_thing_A(self):\n",
    "        print(\"Class A doing a thing\")\n",
    "\n",
    "class B(A):\n",
    "    def do_thing(self):\n",
    "        print(\"class B doing thing\")\n",
    "\n",
    "def func(item: A):\n",
    "    item.__class__ = B\n",
    "    item.do_thing()\n",
    "\n",
    "a = A(2,3)\n",
    "func(a)\n",
    "\n",
    "\n",
    "\n"
   ]
  },
  {
   "cell_type": "code",
   "execution_count": 6,
   "metadata": {},
   "outputs": [
    {
     "name": "stdout",
     "output_type": "stream",
     "text": [
      "[1. 1. 1. 1.]\n",
      "[1. 1. 7. 1.]\n",
      "4\n"
     ]
    }
   ],
   "source": [
    "import numpy as np\n",
    "a = np.ones((20,4))\n",
    "print(a[0])\n",
    "a[0,2] = 7\n",
    "print(a[0])\n",
    "print(a[0].size)"
   ]
  },
  {
   "cell_type": "code",
   "execution_count": 1,
   "metadata": {},
   "outputs": [
    {
     "name": "stdout",
     "output_type": "stream",
     "text": [
      "-123213213.12 -0.213533\n"
     ]
    }
   ],
   "source": [
    "a=-123213213.12421421421\n",
    "b=-0.21353265345345\n",
    "print(round(a,2),round(b,6))\n"
   ]
  },
  {
   "cell_type": "code",
   "execution_count": 2,
   "metadata": {},
   "outputs": [
    {
     "data": {
      "image/png": "[encoded data removed]",
      "text/plain": [
       "<Figure size 432x288 with 1 Axes>"
      ]
     },
     "metadata": {
      "needs_background": "light"
     },
     "output_type": "display_data"
    }
   ],
   "source": [
    "import matplotlib.pyplot as plt\n",
    "import csv\n",
    "import numpy as np\n",
    "\n",
    "indices = []\n",
    "norm = []\n",
    "cat = []\n",
    "with open(\"data/VARIANCES.txt\",'r') as file:\n",
    "    csv_reader = csv.reader(file)\n",
    "    next(csv_reader,None)\n",
    "    for row in csv_reader:\n",
    "        indices.append(float(row[0]))\n",
    "        norm.append(float(row[1]))\n",
    "        cat.append(float(row[2]))\n",
    "\n",
    "plt.plot(indices,cat, 'ro')\n",
    "plt.title(\"Categorical Variance vs DataSet Size\")\n",
    "plt.show()\n"
   ]
  },
  {
   "cell_type": "code",
   "execution_count": 3,
   "metadata": {},
   "outputs": [
    {
     "data": {
      "image/png": "[encoded data removed]",
      "text/plain": [
       "<Figure size 432x288 with 1 Axes>"
      ]
     },
     "metadata": {
      "needs_background": "light"
     },
     "output_type": "display_data"
    }
   ],
   "source": [
    "plt.plot(indices,norm, 'bx')\n",
    "plt.title(\"Normal Variance vs DataSet Size\")\n",
    "plt.show()"
   ]
  },
  {
   "cell_type": "code",
   "execution_count": 33,
   "metadata": {},
   "outputs": [
    {
     "name": "stdout",
     "output_type": "stream",
     "text": [
      "0_perturbed\n"
     ]
    }
   ],
   "source": [
    "import os\n",
    "\n",
    "s = \"C:/Users/m.litton_local/CrossEntropy_Python/data/0_perturbed.txt\"\n",
    "p = os.path.join(\"\",s)\n",
    "print(os.path.split(s)[1].split('.')[0])"
   ]
  }
 ],
 "metadata": {
  "kernelspec": {
   "display_name": "Python 3.7.0 ('carla_windows')",
   "language": "python",
   "name": "python3"
  },
  "language_info": {
   "codemirror_mode": {
    "name": "ipython",
    "version": 3
   },
   "file_extension": ".py",
   "mimetype": "text/x-python",
   "name": "python",
   "nbconvert_exporter": "python",
   "pygments_lexer": "ipython3",
   "version": "3.7.0"
  },
  "orig_nbformat": 4,
  "vscode": {
   "interpreter": {
    "hash": "6b78e235c59f528395fecac5cf104b5a1e9734d9cb9e1120f721887febdebcb5"
   }
  }
 },
 "nbformat": 4,
 "nbformat_minor": 2
}
