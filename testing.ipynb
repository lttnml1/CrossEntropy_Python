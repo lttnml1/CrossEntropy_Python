{
 "cells": [
  {
   "cell_type": "code",
   "execution_count": 2,
   "metadata": {},
   "outputs": [],
   "source": [
    "from abc import ABC, abstractmethod"
   ]
  },
  {
   "cell_type": "code",
   "execution_count": 3,
   "metadata": {},
   "outputs": [],
   "source": [
    "class BaseClass(ABC):\n",
    "    def __init__(self, i: int):\n",
    "        self.i = i\n",
    "\n",
    "    @abstractmethod\n",
    "    def childScore(self):\n",
    "        pass\n",
    "\n",
    "    def score(self):\n",
    "        print(\"Here I'm scoring the base class\")\n",
    "        self.childScore()\n",
    "\n",
    "class ChildClass(BaseClass):\n",
    "    def __init__(self, i, j):\n",
    "        self.j = j\n",
    "        super().__init__(i)\n",
    "    \n",
    "    def childScore(self):\n",
    "        print(\"Here I'm scoring the child class\")"
   ]
  },
  {
   "cell_type": "code",
   "execution_count": 4,
   "metadata": {},
   "outputs": [
    {
     "data": {
      "text/plain": [
       "3"
      ]
     },
     "execution_count": 4,
     "metadata": {},
     "output_type": "execute_result"
    }
   ],
   "source": [
    "cc = ChildClass(2,3)\n",
    "\n",
    "cc.j"
   ]
  },
  {
   "cell_type": "code",
   "execution_count": 4,
   "metadata": {},
   "outputs": [],
   "source": [
    "class A():\n",
    "    def do(self):\n",
    "        print(\"Doing 1\")\n",
    "    def do(self):\n",
    "        print(\"Doing 2\")"
   ]
  },
  {
   "cell_type": "code",
   "execution_count": 5,
   "metadata": {},
   "outputs": [
    {
     "name": "stdout",
     "output_type": "stream",
     "text": [
      "Doing 2\n"
     ]
    }
   ],
   "source": [
    "a = A()\n",
    "a.do()"
   ]
  },
  {
   "cell_type": "code",
   "execution_count": 24,
   "metadata": {},
   "outputs": [],
   "source": [
    "class CompareTest():\n",
    "    def __init__(self,i,j):\n",
    "        self.i = i\n",
    "        self.j = j\n",
    "    def __eq__(self, __o: object) -> bool:\n",
    "        if(self.i == __o.j): return True\n",
    "        else: return False\n",
    "    def __lt__(self, __o: object) -> bool:\n",
    "        if(self.i < __o.i): return True\n",
    "        else: return False\n",
    "    def __repr__(self) -> str:\n",
    "        return f\"({self.i},{self.j})\""
   ]
  },
  {
   "cell_type": "code",
   "execution_count": 26,
   "metadata": {},
   "outputs": [
    {
     "name": "stdout",
     "output_type": "stream",
     "text": [
      "[(1,8), (2,5), (5,1)]\n"
     ]
    }
   ],
   "source": [
    "a = CompareTest(2,5)\n",
    "b = CompareTest(5,1)\n",
    "c = CompareTest(1,8)\n",
    "\n",
    "list = [a,b,c]\n",
    "list.sort()\n",
    "print(list)\n",
    "\n"
   ]
  },
  {
   "cell_type": "code",
   "execution_count": 5,
   "metadata": {},
   "outputs": [
    {
     "data": {
      "text/plain": [
       "1.4"
      ]
     },
     "execution_count": 5,
     "metadata": {},
     "output_type": "execute_result"
    }
   ],
   "source": [
    "from ce_python.Grid import Grid\n",
    "from ce_python.Environment import Environment\n",
    "\n",
    "g = Grid(20,20)\n",
    "e = Environment(g)\n",
    "e.getCellToCelDist(7,28)"
   ]
  }
 ],
 "metadata": {
  "kernelspec": {
   "display_name": "Python 3.7.0 ('carla_windows')",
   "language": "python",
   "name": "python3"
  },
  "language_info": {
   "codemirror_mode": {
    "name": "ipython",
    "version": 3
   },
   "file_extension": ".py",
   "mimetype": "text/x-python",
   "name": "python",
   "nbconvert_exporter": "python",
   "pygments_lexer": "ipython3",
   "version": "3.7.0"
  },
  "orig_nbformat": 4,
  "vscode": {
   "interpreter": {
    "hash": "6b78e235c59f528395fecac5cf104b5a1e9734d9cb9e1120f721887febdebcb5"
   }
  }
 },
 "nbformat": 4,
 "nbformat_minor": 2
}
