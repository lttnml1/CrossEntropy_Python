{
 "cells": [
  {
   "cell_type": "code",
   "execution_count": 2,
   "metadata": {},
   "outputs": [],
   "source": [
    "from abc import ABC, abstractmethod"
   ]
  },
  {
   "cell_type": "code",
   "execution_count": 22,
   "metadata": {},
   "outputs": [],
   "source": [
    "class BaseClass(ABC):\n",
    "    def __init__(self, i: int):\n",
    "        self.i = i\n",
    "\n",
    "    @abstractmethod\n",
    "    def childScore(self):\n",
    "        pass\n",
    "\n",
    "    def score(self):\n",
    "        print(\"Here I'm scoring the base class\")\n",
    "        self.childScore()\n",
    "\n",
    "class ChildClass(BaseClass):\n",
    "    def __init__(self, i, j):\n",
    "        self.j = j\n",
    "        super().__init__(i)\n",
    "        print(f\"{self.i}\")\n",
    "    \n",
    "    def childScore(self):\n",
    "        print(\"Here I'm scoring the child class\")"
   ]
  },
  {
   "cell_type": "code",
   "execution_count": 30,
   "metadata": {},
   "outputs": [
    {
     "name": "stdout",
     "output_type": "stream",
     "text": [
      "2\n",
      "ChildClass\n"
     ]
    }
   ],
   "source": [
    "cc = ChildClass(2,3)\n",
    "print(cc.__class__.__name__)\n",
    "\n"
   ]
  },
  {
   "cell_type": "code",
   "execution_count": 8,
   "metadata": {},
   "outputs": [],
   "source": [
    "class A():\n",
    "    def __init__(self):\n",
    "        self.i = None\n",
    "    \n",
    "    def set_i(self, i):\n",
    "        self.i = i\n",
    "\n",
    "    def __repr__(self) -> str:\n",
    "        return f\"i: {self.i}\""
   ]
  },
  {
   "cell_type": "code",
   "execution_count": 21,
   "metadata": {},
   "outputs": [
    {
     "name": "stdout",
     "output_type": "stream",
     "text": [
      "i: None\n",
      "A\n"
     ]
    }
   ],
   "source": [
    "a = A()\n",
    "print(a)\n",
    "a.set_i(32)\n",
    "print(a.__class__.__name__)"
   ]
  },
  {
   "cell_type": "code",
   "execution_count": 24,
   "metadata": {},
   "outputs": [],
   "source": [
    "class CompareTest():\n",
    "    def __init__(self,i,j):\n",
    "        self.i = i\n",
    "        self.j = j\n",
    "    def __eq__(self, __o: object) -> bool:\n",
    "        if(self.i == __o.j): return True\n",
    "        else: return False\n",
    "    def __lt__(self, __o: object) -> bool:\n",
    "        if(self.i < __o.i): return True\n",
    "        else: return False\n",
    "    def __repr__(self) -> str:\n",
    "        return f\"({self.i},{self.j})\""
   ]
  },
  {
   "cell_type": "code",
   "execution_count": 26,
   "metadata": {},
   "outputs": [
    {
     "name": "stdout",
     "output_type": "stream",
     "text": [
      "[(1,8), (2,5), (5,1)]\n"
     ]
    }
   ],
   "source": [
    "a = CompareTest(2,5)\n",
    "b = CompareTest(5,1)\n",
    "c = CompareTest(1,8)\n",
    "\n",
    "list = [a,b,c]\n",
    "list.sort()\n",
    "print(list)\n",
    "\n"
   ]
  },
  {
   "cell_type": "code",
   "execution_count": 1,
   "metadata": {},
   "outputs": [
    {
     "ename": "ModuleNotFoundError",
     "evalue": "No module named 'ce_python.Grid'",
     "output_type": "error",
     "traceback": [
      "\u001b[1;31m---------------------------------------------------------------------------\u001b[0m",
      "\u001b[1;31mModuleNotFoundError\u001b[0m                       Traceback (most recent call last)",
      "\u001b[1;32m~\\AppData\\Local\\Temp\\ipykernel_17720\\1004171368.py\u001b[0m in \u001b[0;36m<module>\u001b[1;34m\u001b[0m\n\u001b[1;32m----> 1\u001b[1;33m \u001b[1;32mfrom\u001b[0m \u001b[0mce_python\u001b[0m\u001b[1;33m.\u001b[0m\u001b[0mGrid\u001b[0m \u001b[1;32mimport\u001b[0m \u001b[0mGrid\u001b[0m\u001b[1;33m\u001b[0m\u001b[0m\n\u001b[0m\u001b[0;32m      2\u001b[0m \u001b[1;32mfrom\u001b[0m \u001b[0mce_python\u001b[0m\u001b[1;33m.\u001b[0m\u001b[0mEnvironment\u001b[0m \u001b[1;32mimport\u001b[0m \u001b[0mEnvironment\u001b[0m\u001b[1;33m\u001b[0m\u001b[0m\n\u001b[0;32m      3\u001b[0m \u001b[1;33m\u001b[0m\u001b[0m\n\u001b[0;32m      4\u001b[0m \u001b[0mg\u001b[0m \u001b[1;33m=\u001b[0m \u001b[0mGrid\u001b[0m\u001b[1;33m(\u001b[0m\u001b[1;36m20\u001b[0m\u001b[1;33m,\u001b[0m\u001b[1;36m20\u001b[0m\u001b[1;33m)\u001b[0m\u001b[1;33m\u001b[0m\u001b[0m\n\u001b[0;32m      5\u001b[0m \u001b[0me\u001b[0m \u001b[1;33m=\u001b[0m \u001b[0mEnvironment\u001b[0m\u001b[1;33m(\u001b[0m\u001b[0mg\u001b[0m\u001b[1;33m)\u001b[0m\u001b[1;33m\u001b[0m\u001b[0m\n",
      "\u001b[1;31mModuleNotFoundError\u001b[0m: No module named 'ce_python.Grid'"
     ]
    }
   ],
   "source": [
    "from ce_python.Grid import Grid\n",
    "from ce_python.Environment import Environment\n",
    "\n",
    "g = Grid(20,20)\n",
    "e = Environment(g)\n",
    "e.getCellToCelDist(7,28)"
   ]
  },
  {
   "cell_type": "code",
   "execution_count": 10,
   "metadata": {},
   "outputs": [],
   "source": [
    "import numpy as np\n",
    "matrix = []\n",
    "for i in range(400):\n",
    "    row = []\n",
    "    for j in range(8):\n",
    "        row.append(i)\n",
    "    matrix.append(row)\n"
   ]
  },
  {
   "cell_type": "code",
   "execution_count": 26,
   "metadata": {},
   "outputs": [
    {
     "name": "stdout",
     "output_type": "stream",
     "text": [
      "[1. 1. 1. 1. 1. 1. 1. 1.]\n",
      "8.0\n",
      "[0.125 0.125 0.125 0.125 0.125 0.125 0.125 0.125]\n"
     ]
    }
   ],
   "source": [
    "a = np.array(matrix, dtype=float)\n",
    "print(a[1])\n",
    "sum = np.sum(a[1])\n",
    "print(sum)\n",
    "a[1] = a[1]/sum\n",
    "print(a[1])"
   ]
  },
  {
   "cell_type": "code",
   "execution_count": 17,
   "metadata": {},
   "outputs": [
    {
     "data": {
      "text/plain": [
       "8"
      ]
     },
     "execution_count": 17,
     "metadata": {},
     "output_type": "execute_result"
    }
   ],
   "source": [
    "import numpy as np\n",
    "a = np.ones((400,8))\n",
    "a.shape[1]"
   ]
  },
  {
   "cell_type": "code",
   "execution_count": 19,
   "metadata": {},
   "outputs": [
    {
     "name": "stdout",
     "output_type": "stream",
     "text": [
      "less than 8\n"
     ]
    }
   ],
   "source": [
    "a = 7\n",
    "if(a < 8):\n",
    "    print(\"less than 8\")\n",
    "if(a > 0):\n",
    "    print(\"greater than 0\")"
   ]
  },
  {
   "cell_type": "code",
   "execution_count": 33,
   "metadata": {},
   "outputs": [
    {
     "name": "stdout",
     "output_type": "stream",
     "text": [
      "True\n"
     ]
    }
   ],
   "source": [
    "a = [32,4,5,62,2134,4,5,5]\n",
    "d = 2\n",
    "print(a[-d:] == [a[-1]] * d)"
   ]
  },
  {
   "cell_type": "code",
   "execution_count": 45,
   "metadata": {},
   "outputs": [
    {
     "name": "stdout",
     "output_type": "stream",
     "text": [
      "4\n",
      "5\n"
     ]
    }
   ],
   "source": [
    "class Base:\n",
    "    def __init__(self, i):\n",
    "        self.i = i\n",
    "    \n",
    "    @classmethod\n",
    "    def with_j(cls, i, j):\n",
    "        b = cls(i)\n",
    "        b.j = j\n",
    "        return b\n",
    "\n",
    "class Base_v2(Base):\n",
    "    def __init__(self, i):\n",
    "        super().__init__(i)\n",
    "    \n",
    "    @classmethod\n",
    "    def with_j(cls, i, j):\n",
    "        return super().with_j(i,j)\n",
    "\n",
    "b1 = Base(4)\n",
    "\n",
    "b2 = Base.with_j(3,4)\n",
    "print(b2.j)\n",
    "\n",
    "b3 = Base_v2.with_j(4,5)\n",
    "print(b3.j)"
   ]
  },
  {
   "cell_type": "code",
   "execution_count": 53,
   "metadata": {},
   "outputs": [
    {
     "name": "stdout",
     "output_type": "stream",
     "text": [
      "here\n",
      "14\n"
     ]
    }
   ],
   "source": [
    "ht = {}\n",
    "ht[24] = 67\n",
    "ht[12] = 14\n",
    "if 12 in ht:\n",
    "    print('here')\n",
    "    print(ht.get(12))"
   ]
  }
 ],
 "metadata": {
  "kernelspec": {
   "display_name": "Python 3.7.0 ('carla_windows')",
   "language": "python",
   "name": "python3"
  },
  "language_info": {
   "codemirror_mode": {
    "name": "ipython",
    "version": 3
   },
   "file_extension": ".py",
   "mimetype": "text/x-python",
   "name": "python",
   "nbconvert_exporter": "python",
   "pygments_lexer": "ipython3",
   "version": "3.7.0"
  },
  "orig_nbformat": 4,
  "vscode": {
   "interpreter": {
    "hash": "6b78e235c59f528395fecac5cf104b5a1e9734d9cb9e1120f721887febdebcb5"
   }
  }
 },
 "nbformat": 4,
 "nbformat_minor": 2
}
