{
 "cells": [
  {
   "cell_type": "code",
   "execution_count": 1,
   "metadata": {},
   "outputs": [],
   "source": [
    "from abc import ABC, abstractmethod"
   ]
  },
  {
   "cell_type": "code",
   "execution_count": 6,
   "metadata": {},
   "outputs": [],
   "source": [
    "class BaseClass(ABC):\n",
    "    @abstractmethod\n",
    "    def childScore(self):\n",
    "        pass\n",
    "\n",
    "    def score(self):\n",
    "        print(\"Here I'm scoring the base class\")\n",
    "        self.childScore()\n",
    "\n",
    "class ChildClass(BaseClass):\n",
    "    \n",
    "    def childScore(self):\n",
    "        print(\"Here I'm scoring the child class\")"
   ]
  },
  {
   "cell_type": "code",
   "execution_count": 8,
   "metadata": {},
   "outputs": [
    {
     "name": "stdout",
     "output_type": "stream",
     "text": [
      "Here I'm scoring the base class\n",
      "Here I'm scoring the child class\n"
     ]
    }
   ],
   "source": [
    "cc = ChildClass()\n",
    "\n",
    "cc.score()"
   ]
  }
 ],
 "metadata": {
  "kernelspec": {
   "display_name": "Python 3.7.0 ('carla_windows')",
   "language": "python",
   "name": "python3"
  },
  "language_info": {
   "codemirror_mode": {
    "name": "ipython",
    "version": 3
   },
   "file_extension": ".py",
   "mimetype": "text/x-python",
   "name": "python",
   "nbconvert_exporter": "python",
   "pygments_lexer": "ipython3",
   "version": "3.7.0"
  },
  "orig_nbformat": 4,
  "vscode": {
   "interpreter": {
    "hash": "6b78e235c59f528395fecac5cf104b5a1e9734d9cb9e1120f721887febdebcb5"
   }
  }
 },
 "nbformat": 4,
 "nbformat_minor": 2
}
